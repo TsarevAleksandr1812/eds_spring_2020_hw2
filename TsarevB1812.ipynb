{
 "cells": [
  {
   "cell_type": "markdown",
   "metadata": {},
   "source": [
    "## 1. Матрица Вандермонда (10 баллов)"
   ]
  },
  {
   "cell_type": "markdown",
   "metadata": {},
   "source": [
    "Напишите функцию, генерирующую матрицу [Вандермонда](https://ru.wikipedia.org/wiki/Определитель_Вандермонда), принемающую на вход вектор $(𝑥_1,...,𝑥_𝑛)$ .\n",
    "В этом задании запрещается пользоваться готовыми реализациями (например, numpy.vander), а также np.repeat и np.transpose.\n",
    "При решение задействуйте np.reshape и/или np.newaxis."
   ]
  },
  {
   "cell_type": "code",
   "execution_count": 2,
   "metadata": {},
   "outputs": [
    {
     "name": "stdout",
     "output_type": "stream",
     "text": [
      "[[    1     2     4     8    16    32    64]\n",
      " [    1     2     4     8    16    32    64]\n",
      " [    1     3     9    27    81   243   729]\n",
      " [    1     3     9    27    81   243   729]\n",
      " [    1     3     9    27    81   243   729]\n",
      " [    1     4    16    64   256  1024  4096]\n",
      " [    1     5    25   125   625  3125 15625]]\n"
     ]
    }
   ],
   "source": [
    "import numpy as np\n",
    "\n",
    "def make_vandermond(ar_list):\n",
    "    n = len(ar_list)\n",
    "    a = []\n",
    "    for i in range(n):\n",
    "        for el in ar_list:\n",
    "            a.append(el**i)\n",
    "    res = np.array(a).reshape(n, n, order='F')\n",
    "    return res\n",
    "\n",
    "print(make_vandermond([2, 2, 3, 3, 3, 4, 5]))"
   ]
  },
  {
   "cell_type": "markdown",
   "metadata": {},
   "source": [
    "## 2. Марафон (30 баллов)"
   ]
  },
  {
   "cell_type": "markdown",
   "metadata": {},
   "source": [
    "#### История\n",
    "Как-то раз Винни-Пух, Пятачок, Кролик и Иа-Иа решили пробежать марафон. Они договорились бежать $n$ часов. Побеждает тот, кто пробегает за эти $n$ часов больше всего километров. Каждый участник бежит по-разному, то сколько он пробежит за один час поддается одному из законов распределений. Например, если имеется равномерное распределение $U[1,3]$, то участник может пробежать за первый час 1.3км, за второй 2.4км и так далее.\n",
    "\n",
    "* Винни-Пух в целом может пробежать достаточно много, но с большой вероятностью останавливается покушать мёда и пробегает мало. Его закон распределения это показательное распределение с $\\lambda = 1$.\n",
    "* Пятачок бежит в одном темпе и старается пробегать приблизительно одинаковую дистанцию. Изредка, он может перепутать направление и немного пробежать не в ту сторону. Его закон распределения это нормальное распределение $N(1, 1)$.\n",
    "* Кролик - перфекционист. Он бежит целое количество киллометров. Если он понимает, что за оставшееся время он уже не пробежит еще один километр, то он останавливается и ждет следующий час. Его закон распределения это распределение Пуассона с $\\lambda = 1$.\n",
    "* Иа-Иа в течение часа может грустить с вероятностью 0.5 и пробжеать 0 километров или быть очень веселым (с вероятностью 0.5) и пробежать 2 километра. Его закон распределения это распределение Бернулли.\n",
    "\n",
    "#### Задание №1\n",
    "\n",
    "Вам нужно: \n",
    "* Создать трехмерную матрицу размера $10^4 \\times 4 \\times n$. Первая ось отвечает за номер марафона, вторая ось за каждого участника, а третья ось за каждый час марафона. Вторую и третью ось можно поменять, если вам так удобнее.\n",
    "* Выявить победителя в каждом из $10^4$ марафонов. \n",
    "* Нарисовать столбчатую диаграмму, на которой будет видно кто и сколько раз побеждал в марафоне.\n",
    "* Запрещено пользоваться циклами. Нужно использовать возможности numpy.\n",
    "\n",
    "Что можно сказать о результатах?\n",
    "\n",
    "#### Задание №2\n",
    " \n",
    "Участники решили объединиться в пары: Винни-Пух с Пятачком, Кролик с Иа-Иа. Они решили суммировать свои результаты.\n",
    "\n",
    "Вам нужно: \n",
    "* Сгенерировать новую трехмерную матрицу, но уже объединив участников в команды.\n",
    "* Выявить команду-победителя в каждом из $10^4$ марафонов. \n",
    "* Нарисовать столбчатую диаграмму, на которой будет видно кто и сколько раз побеждал в марафоне.\n",
    "\n",
    "Логичны ли полученные результаты?"
   ]
  },
  {
   "cell_type": "code",
   "execution_count": 35,
   "metadata": {},
   "outputs": [
    {
     "data": {
      "image/png": "[encoded data removed]",
      "text/plain": [
       "<Figure size 432x288 with 1 Axes>"
      ]
     },
     "metadata": {
      "needs_background": "light"
     },
     "output_type": "display_data"
    },
    {
     "data": {
      "image/png": "[encoded data removed]",
      "text/plain": [
       "<Figure size 432x288 with 1 Axes>"
      ]
     },
     "metadata": {
      "needs_background": "light"
     },
     "output_type": "display_data"
    }
   ],
   "source": [
    "import numpy as np\n",
    "import pandas as pd\n",
    "import matplotlib.pyplot as plt\n",
    "\n",
    "# Входные данные\n",
    "competitors = 4\n",
    "hours = 42\n",
    "marafons = 10**4\n",
    "\n",
    "# Тестовые данные\n",
    "# bear = np.array([[1000, 2, 3], [4, 5, 6]])\n",
    "# pig = np.array([[7, 1200, 9], [10, 11, 12]])\n",
    "# rabbit = np.array([[13, 14, 15], [16, 200, 18]])\n",
    "# donkey = np.array([[19, 20, 1300], [22, 23, 1400]])\n",
    "\n",
    "bear = np.random.exponential(1, (hours, marafons))\n",
    "pig = np.random.normal(1, 1, (hours, marafons))\n",
    "rabbit = np.random.poisson(1, (hours, marafons))\n",
    "donkey = np.random.binomial(1, 0.5, (hours, marafons)) * 2\n",
    "\n",
    "# Сформируем итоговый массив - номер марафона, участник, пробег\n",
    "common_table = np.row_stack((bear, pig, rabbit, donkey)).reshape(competitors,hours,marafons)\n",
    "\n",
    "# Получим суммированные результаты по всем марафонам каждого из участников\n",
    "results = common_table.sum(axis=1)\n",
    "\n",
    "# Задание 1\n",
    "# Создадим дата-фрейм на основании массива, присвоим строкам имена участников\n",
    "df = pd.DataFrame(results, index=['bear', 'pig', 'rabbit', 'donkey'])\n",
    "df.idxmax().value_counts().plot(kind='bar')\n",
    "plt.show()\n",
    "\n",
    "# Задание 2\n",
    "# Суммировоанные результаты команды Винни-Пух - Пятачок\n",
    "team_1 = results[0] + results[1]\n",
    "\n",
    "# Суммировоанные результаты команды Кролик - Иа\n",
    "team_2 = results[2] + results[3]\n",
    "\n",
    "# Создадим дата-фрейм на основании массива, пррисвоим строкам имена команд, нарисуем график\n",
    "df2 = pd.DataFrame(np.row_stack((team_1, team_2)), index=['bear-pig', 'rabbit-donkey'])\n",
    "df2.idxmax().value_counts().plot(kind='bar')\n",
    "plt.show()"
   ]
  },
  {
   "cell_type": "markdown",
   "metadata": {},
   "source": [
    "## 3. Avito (30 баллов)"
   ]
  },
  {
   "cell_type": "markdown",
   "metadata": {},
   "source": [
    "В этом задании вам нужно будет написать функцию, которая парсит [Авито](https://www.avito.ru) (будем рассматривать только Москву). Эта функция принимает два параметра:\n",
    "* search - то, что мы ищем на avito\n",
    "* page - номер страницы, с которой парсим информацию\n",
    "\n",
    "```python\n",
    "def parse_page(search, page):\n",
    "    # тут ваш код\n",
    "df = parse_page('гречка', 4)\n",
    "```\n",
    "Нужно скачать следующую информацию:\n",
    "* название объявления\n",
    "* ссылка на объявление\n",
    "* цена\n",
    "* метро (если есть), вам нужно аккуратно обрабатывать None или использовать конструкцию try-except\n",
    "* сколько метров от метро (если есть)\n",
    "\n",
    "Эту информацию лучше сохранить в виде pandas df.\n",
    "\n",
    "В данном задании **не нужно** парсить все страницы (вас могут забанить). Нужно лишь сделать функцию, которая парсит одну страницу. Чтобы вас не забанили сделаейте request один раз и работайте с вашей страничкой без функции. После того как все будет готово, оберните весь ваш код в функцию."
   ]
  },
  {
   "cell_type": "code",
   "execution_count": null,
   "metadata": {},
   "outputs": [],
   "source": []
  },
  {
   "cell_type": "markdown",
   "metadata": {},
   "source": [
    "## 4. Walmart (30 баллов)"
   ]
  },
  {
   "cell_type": "markdown",
   "metadata": {},
   "source": [
    "В файле *walmart.csv* нам предоставлены исторические данные о продажах магазинов Walmart, расположенных в разных регионах.\n",
    "\n",
    "Нам доступны следующие переменные:\n",
    "\n",
    "* **Date** – дата;\n",
    "* **Store** – номер магазина;\n",
    "* **Dept** – номер отдела;\n",
    "* **Weekly_Sales** – объём продаж в данную неделю в данном отделе\n",
    "* **Type** – тип магазина;\n",
    "* **Size** – размер магазина;\n",
    "* **IsHoliday** – является ли неделя праздничной;\n",
    "* **Temperature** – средняя температура в регионе в градусах по Фаренгейту;\n",
    "* **Fuel_Price** – стоимость топлива в регионе;\n",
    "* **MarkDown1-5** – данные, связанные с рекламными уценками, которые запускает Walmart. Данные уценки доступны только после ноября 2011 года и доступны не для всех магазинов. Данные анонимизированы. Непонятно на какие именно товары производилась уценка и в каких количествах. Компании часто анонимизируют данные, когда выкладывают их в открытый доступ.\n",
    "* **CPI** – индекс потребительских цен;\n",
    "* **Unemployment** – уровень безработицы.\n",
    "\n",
    "\n",
    "Вам нужно выполнить следующие задания:\n",
    "1. Загрузить файл с данными. Отобразить первые и последние 5 наблюдений. Узнать сколько наблюдений и переменных есть в вашем наборе данных. Какой тип(формат) имеет каждая переменная? Привести переменную Date к формату даты.\n",
    "2. Разобраться с пропущенными значениями:\n",
    "    * вывести сколько пропущенных значений в процентах есть в каждой переменной;\n",
    "    * удалить переменные, которые имеют более 60% пропущенных значений.\n",
    "3. Сколько магазинов и отделов присутствует в выборке, за какой период времени у нас имеются данные? \n",
    "4. Посмотреть динамику продаж в магазинах walmart в целом. Для этого можно построить график, где по оси X будет дата, а по оси Y продажи всей сети Walmart.\n",
    "5. Найдите и нарисуйте матрицу корреляции для числовых показателей.\n",
    "6. Найдите топ-5 самых больших магазинов по суммарным продажам за все время и отобразите динамику их продаж на одном графике.\n",
    "7. Найдите топ-10 самых больших отделов по суммарным продажам за 2011 год среди магазинов с типом А и нарисуйте столбчатую диаграмму для них"
   ]
  },
  {
   "cell_type": "code",
   "execution_count": 4,
   "metadata": {},
   "outputs": [
    {
     "name": "stdout",
     "output_type": "stream",
     "text": [
      "Первые 5 наблюдений\n",
      "   Store       Date  Dept  Weekly_Sales  IsHoliday Type    Size  Temperature  \\\n",
      "0      1 2010-02-05     1      24924.50      False    A  151315        42.31   \n",
      "1      1 2010-02-12     1      46039.49       True    A  151315        38.51   \n",
      "2      1 2010-02-19     1      41595.55      False    A  151315        39.93   \n",
      "3      1 2010-02-26     1      19403.54      False    A  151315        46.63   \n",
      "4      1 2010-03-05     1      21827.90      False    A  151315        46.50   \n",
      "\n",
      "   Fuel_Price  MarkDown1  MarkDown2  MarkDown3  MarkDown4  MarkDown5  \\\n",
      "0       2.572        NaN        NaN        NaN        NaN        NaN   \n",
      "1       2.548        NaN        NaN        NaN        NaN        NaN   \n",
      "2       2.514        NaN        NaN        NaN        NaN        NaN   \n",
      "3       2.561        NaN        NaN        NaN        NaN        NaN   \n",
      "4       2.625        NaN        NaN        NaN        NaN        NaN   \n",
      "\n",
      "          CPI  Unemployment  \n",
      "0  211.096358         8.106  \n",
      "1  211.242170         8.106  \n",
      "2  211.289143         8.106  \n",
      "3  211.319643         8.106  \n",
      "4  211.350143         8.106  \n",
      "Последние 5 наблюдений\n",
      "        Store       Date  Dept  Weekly_Sales  IsHoliday Type    Size  \\\n",
      "418234     45 2012-09-21    98        467.30      False    B  118221   \n",
      "418235     45 2012-09-28    98        508.37      False    B  118221   \n",
      "418236     45 2012-10-05    98        628.10      False    B  118221   \n",
      "418237     45 2012-10-12    98       1061.02      False    B  118221   \n",
      "418238     45 2012-10-19    98        760.01      False    B  118221   \n",
      "\n",
      "        Temperature  Fuel_Price  MarkDown1  MarkDown2  MarkDown3  MarkDown4  \\\n",
      "418234        65.32       4.038    8452.20      92.28      63.24    2376.38   \n",
      "418235        64.88       3.997    4556.61      20.64       1.50    1601.01   \n",
      "418236        64.89       3.985    5046.74        NaN      18.82    2253.43   \n",
      "418237        54.47       4.000    1956.28        NaN       7.89     599.32   \n",
      "418238        56.47       3.969    2004.02        NaN       3.18     437.73   \n",
      "\n",
      "        MarkDown5         CPI  Unemployment  \n",
      "418234    8670.40  191.856704         8.684  \n",
      "418235    3288.25  192.013558         8.684  \n",
      "418236    2340.01  192.170412         8.667  \n",
      "418237    3990.54  192.327265         8.667  \n",
      "418238    1537.49  192.330854         8.667  \n",
      "Всего наблюдений: 418239\n",
      "Всего переменных: 16\n",
      "Наименования и типы колонок: \n",
      "Store                    int64\n",
      "Date            datetime64[ns]\n",
      "Dept                     int64\n",
      "Weekly_Sales           float64\n",
      "IsHoliday                 bool\n",
      "Type                    object\n",
      "Size                     int64\n",
      "Temperature            float64\n",
      "Fuel_Price             float64\n",
      "MarkDown1              float64\n",
      "MarkDown2              float64\n",
      "MarkDown3              float64\n",
      "MarkDown4              float64\n",
      "MarkDown5              float64\n",
      "CPI                    float64\n",
      "Unemployment           float64\n",
      "dtype: object\n",
      "Колонка: Store пустых значений: 0 (0.0 %)\n",
      "Колонка: Date пустых значений: 0 (0.0 %)\n",
      "Колонка: Dept пустых значений: 0 (0.0 %)\n",
      "Колонка: Weekly_Sales пустых значений: 0 (0.0 %)\n",
      "Колонка: IsHoliday пустых значений: 0 (0.0 %)\n",
      "Колонка: Type пустых значений: 0 (0.0 %)\n",
      "Колонка: Size пустых значений: 0 (0.0 %)\n",
      "Колонка: Temperature пустых значений: 0 (0.0 %)\n",
      "Колонка: Fuel_Price пустых значений: 0 (0.0 %)\n",
      "Колонка: MarkDown1 пустых значений: 270755 (64.73690880094874 %)\n",
      "Колонка: MarkDown2 пустых значений: 310095 (74.14301392266144 %)\n",
      "Колонка: MarkDown3 пустых значений: 283671 (67.82509522067527 %)\n",
      "Колонка: MarkDown4 пустых значений: 285924 (68.3637824306198 %)\n",
      "Колонка: MarkDown5 пустых значений: 270057 (64.57001857789446 %)\n",
      "Колонка: CPI пустых значений: 0 (0.0 %)\n",
      "Колонка: Unemployment пустых значений: 0 (0.0 %)\n",
      "Всего магазинов: 45\n",
      "Всего отделов: 81\n",
      "Данные за период: 2010-02-05 00:00:00 - 2012-10-19 00:00:00\n"
     ]
    },
    {
     "data": {
      "text/plain": [
       "<Figure size 2500x600 with 1 Axes>"
      ]
     },
     "metadata": {},
     "output_type": "display_data"
    },
    {
     "data": {
      "text/plain": [
       "<Figure size 640x480 with 1 Axes>"
      ]
     },
     "metadata": {},
     "output_type": "display_data"
    },
    {
     "data": {
      "text/plain": [
       "<Figure size 640x480 with 1 Axes>"
      ]
     },
     "metadata": {},
     "output_type": "display_data"
    }
   ],
   "source": [
    "import pandas as pd\n",
    "import matplotlib.pyplot as plt\n",
    "from matplotlib.pyplot import figure\n",
    "\n",
    "# 1. Загрузить файл с данными. \n",
    "# Отобразить первые и последние 5 наблюдений. \n",
    "# Узнать сколько наблюдений и переменных есть в вашем наборе данных. \n",
    "# Какой тип(формат) имеет каждая переменная? \n",
    "# Привести переменную Date к формату даты.\n",
    "\n",
    "# Загружаем данные из файла\n",
    "df = pd.read_csv('walmart.csv', parse_dates=['Date'])\n",
    "\n",
    "# Первые и последние 5 наблюдений\n",
    "print('Первые 5 наблюдений')\n",
    "print(df.head(5))\n",
    "print('Последние 5 наблюдений')\n",
    "print(df.tail(5))\n",
    "\n",
    "# количество наблюдений и переменных\n",
    "rows_count = len(df.count(1))\n",
    "print('Всего наблюдений: ' + str(rows_count))\n",
    "print('Всего переменных: ' + str(len(df.count(0))))\n",
    "\n",
    "# Наименование и тип колонок\n",
    "print('Наименования и типы колонок: ')\n",
    "print(df.dtypes)\n",
    "\n",
    "# 2. Разобраться с пропущенными значениями:\n",
    "# - вывести сколько пропущенных значений в процентах есть в каждой переменной;\n",
    "# - удалить переменные, которые имеют более 60% пропущенных значений.\n",
    "for column in df:\n",
    "    empty_rows = df[column].isna().sum()\n",
    "    print('Колонка: ' + column + ' пустых значений: ' + str(empty_rows) + ' ('+str(100*empty_rows / rows_count) +' %)')\n",
    "    if empty_rows / rows_count > 0.6:\n",
    "        # Удаляем колонку из дата фрейма\n",
    "        df.drop([column], axis='columns')\n",
    "\n",
    "# 3. Сколько магазинов и отделов присутствует в выборке, за какой период времени у нас имеются данные?\n",
    "print('Всего магазинов: ' + str(df['Store'].value_counts().count()))\n",
    "print('Всего отделов: ' + str(df['Dept'].value_counts().count()))\n",
    "print('Данные за период: '+str(df['Date'].min()) + ' - ' + str(df['Date'].max()))\n",
    "\n",
    "\n",
    "# 4. Посмотреть динамику продаж в магазинах walmart в целом. Для этого можно построить график, где по оси X будет дата, а по оси Y продажи всей сети Walmart.\n",
    "# Получим дата-фрейм с продажами по магазинам, он нам понадобится для решения нескольих задач\n",
    "plt.title('Динамика продаж сети', fontsize=15)\n",
    "shops_sales = df.groupby(['Date', 'Store'], as_index=False).agg({'Weekly_Sales': sum})\n",
    "shops_sales.set_index('Date')['Weekly_Sales'].plot(figsize=(25, 6))\n",
    "plt.show()\n",
    "\n",
    "# 5. Найдите и нарисуйте матрицу корреляции для числовых показателей.\n",
    "\n",
    "# 6. Найдите топ-5 самых больших магазинов по суммарным продажам за все время и отобразите динамику их продаж на одном графике.\n",
    "# Получим дата-фрейм с продажами, сгрупировоанными по магазину и отсортировоанными по убыванию (первые 5)\n",
    "top_shops = shops_sales.groupby(['Store'], as_index=False).agg({'Weekly_Sales': sum}).sort_values('Weekly_Sales', ascending=False).head(5)\n",
    "\n",
    "# Путем объединение основного фрейма с продажами (Дата, магазин) с топовыми магазинами получим продажи по ним\n",
    "plt.title('Динамика продаж магазинов из ТОП-5', fontsize=15)\n",
    "top_shops_sales = shops_sales.merge(right=top_shops, how='inner', on=['Store'])\n",
    "for i in top_shops_sales['Store'].value_counts().index:\n",
    "    sub_frame = top_shops_sales[top_shops_sales['Store'] == i]\n",
    "    plt.plot(sub_frame.Date, sub_frame.Weekly_Sales_x, label = 'Магазин: '+str(i))\n",
    "    \n",
    "plt.legend()     \n",
    "plt.show()\n",
    "\n",
    "# 7. Найдите топ-10 самых больших отделов по суммарным продажам за 2011 год среди магазинов с типом А и нарисуйте столбчатую диаграмму для них\n",
    "sales_2011_A = df[(df['Type'] == 'A') & (df['Date'] >= '2011-01-01') & (df['Date'] <= '2011-12-31')]\n",
    "sales_2011_A.groupby(['Dept'], as_index=False).agg({'Weekly_Sales': sum}).sort_values('Weekly_Sales', ascending=False).head(10).plot(x='Dept', kind='bar')\n",
    "plt.show()\n"
   ]
  },
  {
   "cell_type": "markdown",
   "metadata": {},
   "source": [
    "## 5. Парадокс дней рождений (30 баллов)"
   ]
  },
  {
   "cell_type": "markdown",
   "metadata": {},
   "source": [
    "Прочитайте на википедии про [парадокс дней рождений](https://ru.wikipedia.org/wiki/Парадокс_дней_рождения). В этой задаче нам предстоит его проверить. Итак, в произвольной группе из  $50$ человек вероятность того, что хотя бы у двоих людей дни рождения совпадут, равна  $0.97$. Но это всё только в теории. При решении задачи мы предполагаем, что рождения людей равномерно распределены в течение года. Однако на практике это может быть не так. В связи с этим реальная вероятность может отличаться от теоретической.\n",
    "\n",
    "В этой задачке вам предстоит проверить парадокс дней рождений на эмпирических данных. От вас требуется:\n",
    "1. Выбрать какое-то большое сообщество в Vk. С помощью VkAPI выкачать инфорацию по ее подписчикам (самое главное это дата рождения, а также id пользователя, который будет его характеризовать. Не оставляйте свой токен \n",
    "2. Удалите из данных всех, кто не указал когда он родился. Приведите колонку с датами рождений к удобному, однообразному виду.\n",
    "3. Постройте гистограмму, на которой было бы понятно, в какой месяц родилось какое количество людей. Правда ли, что рождаемость людей в течение года распределена равномерно?\n",
    "4. Эмпирически оцените вероятность того, что в группе из 50 произвольных людей найдутся хотя бы двое с одинаковым днём рождения. Для этого напишите цикл, в ходе которого из таблички будет делаться подвыборка из 50 строк. Для этих 50 строк внутри условия вы должны проверить совпадение дней рождений. Если совпало, то нужно запомнить это в переменную счётчик, которую вы впоследствии, чтобы получить вероятность, поделите на длину цикла.\n",
    "\n",
    "**Обратите внимание, что часто придётся прогонять один и тот же код. Не надо его копировать. Оформите его в виде функции.** "
   ]
  },
  {
   "cell_type": "code",
   "execution_count": 25,
   "metadata": {},
   "outputs": [
    {
     "name": "stdout",
     "output_type": "stream",
     "text": [
      "Процент успешных выборок: 0.9761\n"
     ]
    },
    {
     "data": {
      "image/png": "[encoded data removed]",
      "text/plain": [
       "<Figure size 432x288 with 1 Axes>"
      ]
     },
     "metadata": {
      "needs_background": "light"
     },
     "output_type": "display_data"
    }
   ],
   "source": [
    "import datetime\n",
    "import json\n",
    "import requests\n",
    "import pandas as pd\n",
    "\n",
    "\n",
    "def getDateInCorrectFormat(date):\n",
    "    # Приводим все даты к виду DD.MM.2020 (год рождения в нашей задаче не важен, берем високосный, \n",
    "    # чтобы не было проблем с 29 февралем)\n",
    "    d = date.split('.')\n",
    "    res = -1\n",
    "    try:\n",
    "        # Не знаю как это возможно (вопрос к VK), но может прийти 30 февраля. \n",
    "        # Жизнь к такому не готовила питона\n",
    "        res = datetime.date(2020, int(d[1]), int(d[0]))\n",
    "    finally:\n",
    "        return res\n",
    "\n",
    "\n",
    "def getDataFromGroup(group_id):\n",
    "    # Токен надо вписать свой\n",
    "    access_token = ''\n",
    "    offset = 0\n",
    "    result = {}\n",
    "    \n",
    "    # API отдает данные максимум по 1000 элементов, для сдвига используем параметр offset. \n",
    "    # Выполняем запросы пока не прийдет первый пустой\n",
    "    while True:\n",
    "        link = 'https://api.vk.com/method/groups.getMembers?group_id=' + group_id + '&access_token=' + access_token + '&v=5.9&fields=bdate&offset=' + str(offset)\n",
    "        offset += 1000\n",
    "        response = requests.get(link)\n",
    "        if response.status_code != 200:\n",
    "            print('Ошибка загрузки страницы, проверьте соединение: ' + str(response.status_code))\n",
    "            return -1\n",
    "\n",
    "        result_json = json.loads(response.text)        \n",
    "        # Иногда может прилететь ошибка (при коде 200) - это внутренняя ошибка, например запрошены члены закрытой группы\n",
    "        if 'error' in result_json:\n",
    "            print('Ошибка получения данных группы: ' + result_json['error']['error_msg'])\n",
    "            return -1\n",
    "        if 'response' in result:\n",
    "            print('Ошибка получения данных группы - в ответе отсутствует секция response ')\n",
    "            return -1\n",
    "        members_list = result_json['response']['items']\n",
    "        if len(members_list) == 0:\n",
    "            break\n",
    "\n",
    "        # Есил у человека нормальная дата рождения, добавляем его в словарь, если нет пропускаем\n",
    "        for member in members_list:\n",
    "            if 'bdate' in member:\n",
    "                parse_date = getDateInCorrectFormat(member['bdate'])\n",
    "                if parse_date != -1:\n",
    "                    result.setdefault(member['id'], parse_date)\n",
    "    return result\n",
    "\n",
    "\n",
    "if __name__ == '__main__':\n",
    "    # Здесь меняем начальные данные\n",
    "    load_from_vk = False    # грузить из VK или взять из сохраненного файла\n",
    "    group_id = 'thelurk'    # наименование группы\n",
    "    selection_size = 50     # размер случайной выборки людей\n",
    "    selection_count = 10000 # количество циклов проверки\n",
    "\n",
    "    # Если установлен флаг загрузки из VK то вызовыем процедуру и сохраним результат в CSV файл (дириктория блокнота)\n",
    "    if load_from_vk:\n",
    "        result = getDataFromGroup(group_id)\n",
    "        if result == -1:\n",
    "            exit(0)\n",
    "        df = pd.DataFrame(result.items(), columns=['id', 'bdate'])\n",
    "        df.to_csv('vk_data.csv')\n",
    "\n",
    "    # Считываем данные из вновь сохраненного файла или старого\n",
    "    df = pd.read_csv('vk_data.csv', parse_dates=['bdate'], dayfirst=True, index_col='bdate')\n",
    "\n",
    "    # Добавим колонку с номером месяца (для рисования графика)\n",
    "    df.loc[:, 'month'] = df.index.month\n",
    "\n",
    "    # Рисуем гистограмму распределения количества ДР по месяцам года\n",
    "    by_month = df.groupby('month').size()\n",
    "    by_month.index = ['Январь', 'Февраль', 'Март', 'Апрель', 'Май', 'Июнь', 'Июль', 'Август', 'Сентябрь', 'Октябрь', 'Ноябрь', 'Декабрь']\n",
    "    by_month.plot(kind='bar')\n",
    "\n",
    "    # Прогоняем тест на случайных выборках, расчитываем коэффициент\n",
    "    more_then_one = 0\n",
    "    for i in range(selection_count + 1):\n",
    "        df_elements = df.sample(n=selection_size)\n",
    "        by_date = df_elements.groupby('bdate').size()\n",
    "        for s in by_date:\n",
    "            if s > 1:\n",
    "                more_then_one += 1\n",
    "                break\n",
    "    print('Процент успешных выборок: ' + str(100 * more_then_one / selection_count))\n"
   ]
  },
  {
   "cell_type": "code",
   "execution_count": null,
   "metadata": {},
   "outputs": [],
   "source": []
  }
 ],
 "metadata": {
  "kernelspec": {
   "display_name": "Python 3",
   "language": "python",
   "name": "python3"
  },
  "language_info": {
   "codemirror_mode": {
    "name": "ipython",
    "version": 3
   },
   "file_extension": ".py",
   "mimetype": "text/x-python",
   "name": "python",
   "nbconvert_exporter": "python",
   "pygments_lexer": "ipython3",
   "version": "3.7.4"
  }
 },
 "nbformat": 4,
 "nbformat_minor": 4
}
